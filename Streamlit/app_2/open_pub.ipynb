{
 "cells": [
  {
   "cell_type": "markdown",
   "id": "19a18228",
   "metadata": {},
   "source": [
    "# `importing libraries`"
   ]
  },
  {
   "cell_type": "code",
   "execution_count": 2,
   "id": "b1abdb4c",
   "metadata": {},
   "outputs": [],
   "source": [
    "import pandas as pd\n",
    "import numpy as np"
   ]
  },
  {
   "cell_type": "markdown",
   "id": "6b08c4c0",
   "metadata": {},
   "source": [
    "# `importing dataset`"
   ]
  },
  {
   "cell_type": "code",
   "execution_count": 2,
   "id": "1a5f5709",
   "metadata": {},
   "outputs": [],
   "source": [
    "df = pd.read_csv('data/open_pubs.csv',header = None)"
   ]
  },
  {
   "cell_type": "markdown",
   "id": "9a316a0f",
   "metadata": {},
   "source": [
    "We also have a data dictionary for columns dataset information"
   ]
  },
  {
   "cell_type": "code",
   "execution_count": 3,
   "id": "a7d4e342",
   "metadata": {},
   "outputs": [],
   "source": [
    "data_dict = pd.read_excel('data/data_dictionary.xlsx')"
   ]
  },
  {
   "cell_type": "code",
   "execution_count": 4,
   "id": "1e94b74c",
   "metadata": {},
   "outputs": [
    {
     "data": {
      "text/html": [
       "<div>\n",
       "<style scoped>\n",
       "    .dataframe tbody tr th:only-of-type {\n",
       "        vertical-align: middle;\n",
       "    }\n",
       "\n",
       "    .dataframe tbody tr th {\n",
       "        vertical-align: top;\n",
       "    }\n",
       "\n",
       "    .dataframe thead th {\n",
       "        text-align: right;\n",
       "    }\n",
       "</style>\n",
       "<table border=\"1\" class=\"dataframe\">\n",
       "  <thead>\n",
       "    <tr style=\"text-align: right;\">\n",
       "      <th></th>\n",
       "      <th>Field</th>\n",
       "      <th>Possible Values</th>\n",
       "      <th>Comments</th>\n",
       "    </tr>\n",
       "  </thead>\n",
       "  <tbody>\n",
       "    <tr>\n",
       "      <th>0</th>\n",
       "      <td>fsa_id</td>\n",
       "      <td>int</td>\n",
       "      <td>Food Standard Agency's ID for this pub.</td>\n",
       "    </tr>\n",
       "    <tr>\n",
       "      <th>1</th>\n",
       "      <td>name</td>\n",
       "      <td>string</td>\n",
       "      <td>Name of the pub.</td>\n",
       "    </tr>\n",
       "    <tr>\n",
       "      <th>2</th>\n",
       "      <td>address</td>\n",
       "      <td>string</td>\n",
       "      <td>Address fields separated by commas.</td>\n",
       "    </tr>\n",
       "    <tr>\n",
       "      <th>3</th>\n",
       "      <td>postcode</td>\n",
       "      <td>string</td>\n",
       "      <td>Postcode of the pub.</td>\n",
       "    </tr>\n",
       "    <tr>\n",
       "      <th>4</th>\n",
       "      <td>easting</td>\n",
       "      <td>int</td>\n",
       "      <td>NaN</td>\n",
       "    </tr>\n",
       "    <tr>\n",
       "      <th>5</th>\n",
       "      <td>northing</td>\n",
       "      <td>int</td>\n",
       "      <td>NaN</td>\n",
       "    </tr>\n",
       "    <tr>\n",
       "      <th>6</th>\n",
       "      <td>latitude</td>\n",
       "      <td>decimal</td>\n",
       "      <td>NaN</td>\n",
       "    </tr>\n",
       "    <tr>\n",
       "      <th>7</th>\n",
       "      <td>longitude</td>\n",
       "      <td>decimal</td>\n",
       "      <td>NaN</td>\n",
       "    </tr>\n",
       "    <tr>\n",
       "      <th>8</th>\n",
       "      <td>local_authority</td>\n",
       "      <td>string</td>\n",
       "      <td>Local authority this pub falls under.</td>\n",
       "    </tr>\n",
       "  </tbody>\n",
       "</table>\n",
       "</div>"
      ],
      "text/plain": [
       "             Field Possible Values                                 Comments\n",
       "0           fsa_id             int  Food Standard Agency's ID for this pub.\n",
       "1             name          string                         Name of the pub.\n",
       "2          address          string      Address fields separated by commas.\n",
       "3         postcode          string                     Postcode of the pub.\n",
       "4          easting             int                                      NaN\n",
       "5         northing             int                                      NaN\n",
       "6         latitude         decimal                                      NaN\n",
       "7        longitude         decimal                                      NaN\n",
       "8  local_authority          string    Local authority this pub falls under."
      ]
     },
     "execution_count": 4,
     "metadata": {},
     "output_type": "execute_result"
    }
   ],
   "source": [
    "data_dict"
   ]
  },
  {
   "cell_type": "markdown",
   "id": "96b53cfe",
   "metadata": {},
   "source": [
    "**Top 5 rows**"
   ]
  },
  {
   "cell_type": "code",
   "execution_count": 5,
   "id": "6bdc9cf3",
   "metadata": {
    "scrolled": true
   },
   "outputs": [
    {
     "data": {
      "text/html": [
       "<div>\n",
       "<style scoped>\n",
       "    .dataframe tbody tr th:only-of-type {\n",
       "        vertical-align: middle;\n",
       "    }\n",
       "\n",
       "    .dataframe tbody tr th {\n",
       "        vertical-align: top;\n",
       "    }\n",
       "\n",
       "    .dataframe thead th {\n",
       "        text-align: right;\n",
       "    }\n",
       "</style>\n",
       "<table border=\"1\" class=\"dataframe\">\n",
       "  <thead>\n",
       "    <tr style=\"text-align: right;\">\n",
       "      <th></th>\n",
       "      <th>0</th>\n",
       "      <th>1</th>\n",
       "      <th>2</th>\n",
       "      <th>3</th>\n",
       "      <th>4</th>\n",
       "      <th>5</th>\n",
       "      <th>6</th>\n",
       "      <th>7</th>\n",
       "      <th>8</th>\n",
       "    </tr>\n",
       "  </thead>\n",
       "  <tbody>\n",
       "    <tr>\n",
       "      <th>0</th>\n",
       "      <td>22</td>\n",
       "      <td>Anchor Inn</td>\n",
       "      <td>Upper Street, Stratford St Mary, COLCHESTER</td>\n",
       "      <td>CO7 6LW</td>\n",
       "      <td>604749</td>\n",
       "      <td>234404</td>\n",
       "      <td>51.970379</td>\n",
       "      <td>0.979340</td>\n",
       "      <td>Babergh</td>\n",
       "    </tr>\n",
       "    <tr>\n",
       "      <th>1</th>\n",
       "      <td>36</td>\n",
       "      <td>Ark Bar Restaurant</td>\n",
       "      <td>Ark Bar And Restaurant, Cattawade Street, Bran...</td>\n",
       "      <td>CO11 1RH</td>\n",
       "      <td>610194</td>\n",
       "      <td>233329</td>\n",
       "      <td>51.958698</td>\n",
       "      <td>1.057832</td>\n",
       "      <td>Babergh</td>\n",
       "    </tr>\n",
       "    <tr>\n",
       "      <th>2</th>\n",
       "      <td>74</td>\n",
       "      <td>Black Boy</td>\n",
       "      <td>The Lady Elizabeth, 7 Market Hill, SUDBURY, Su...</td>\n",
       "      <td>CO10 2EA</td>\n",
       "      <td>587334</td>\n",
       "      <td>241316</td>\n",
       "      <td>52.038595</td>\n",
       "      <td>0.729915</td>\n",
       "      <td>Babergh</td>\n",
       "    </tr>\n",
       "    <tr>\n",
       "      <th>3</th>\n",
       "      <td>75</td>\n",
       "      <td>Black Horse</td>\n",
       "      <td>Lower Street, Stratford St Mary, COLCHESTER</td>\n",
       "      <td>CO7 6JS</td>\n",
       "      <td>622675</td>\n",
       "      <td>-5527598</td>\n",
       "      <td>\\N</td>\n",
       "      <td>\\N</td>\n",
       "      <td>Babergh</td>\n",
       "    </tr>\n",
       "    <tr>\n",
       "      <th>4</th>\n",
       "      <td>76</td>\n",
       "      <td>Black Lion</td>\n",
       "      <td>Lion Road, Glemsford, SUDBURY</td>\n",
       "      <td>CO10 7RF</td>\n",
       "      <td>622675</td>\n",
       "      <td>-5527598</td>\n",
       "      <td>\\N</td>\n",
       "      <td>\\N</td>\n",
       "      <td>Babergh</td>\n",
       "    </tr>\n",
       "  </tbody>\n",
       "</table>\n",
       "</div>"
      ],
      "text/plain": [
       "    0                   1                                                  2  \\\n",
       "0  22          Anchor Inn        Upper Street, Stratford St Mary, COLCHESTER   \n",
       "1  36  Ark Bar Restaurant  Ark Bar And Restaurant, Cattawade Street, Bran...   \n",
       "2  74           Black Boy  The Lady Elizabeth, 7 Market Hill, SUDBURY, Su...   \n",
       "3  75         Black Horse        Lower Street, Stratford St Mary, COLCHESTER   \n",
       "4  76          Black Lion                      Lion Road, Glemsford, SUDBURY   \n",
       "\n",
       "          3       4        5          6         7        8  \n",
       "0   CO7 6LW  604749   234404  51.970379  0.979340  Babergh  \n",
       "1  CO11 1RH  610194   233329  51.958698  1.057832  Babergh  \n",
       "2  CO10 2EA  587334   241316  52.038595  0.729915  Babergh  \n",
       "3   CO7 6JS  622675 -5527598         \\N        \\N  Babergh  \n",
       "4  CO10 7RF  622675 -5527598         \\N        \\N  Babergh  "
      ]
     },
     "execution_count": 5,
     "metadata": {},
     "output_type": "execute_result"
    }
   ],
   "source": [
    "df.head()"
   ]
  },
  {
   "cell_type": "markdown",
   "id": "0a8603c8",
   "metadata": {},
   "source": [
    "# `data wrangling`"
   ]
  },
  {
   "cell_type": "markdown",
   "id": "67a8c32b",
   "metadata": {},
   "source": [
    "There are no columns present in dataset. <br>\n"
   ]
  },
  {
   "cell_type": "markdown",
   "id": "afb44e5f",
   "metadata": {},
   "source": [
    "**Assigning columns names**"
   ]
  },
  {
   "cell_type": "code",
   "execution_count": 6,
   "id": "5e836f61",
   "metadata": {},
   "outputs": [],
   "source": [
    "columns_names = ['fsa_id','name','address','postcode','easting','northing','latitude','longitude','local_authority'] \n",
    "df.columns = columns_names"
   ]
  },
  {
   "cell_type": "code",
   "execution_count": 7,
   "id": "ff354286",
   "metadata": {
    "scrolled": false
   },
   "outputs": [
    {
     "data": {
      "text/html": [
       "<div>\n",
       "<style scoped>\n",
       "    .dataframe tbody tr th:only-of-type {\n",
       "        vertical-align: middle;\n",
       "    }\n",
       "\n",
       "    .dataframe tbody tr th {\n",
       "        vertical-align: top;\n",
       "    }\n",
       "\n",
       "    .dataframe thead th {\n",
       "        text-align: right;\n",
       "    }\n",
       "</style>\n",
       "<table border=\"1\" class=\"dataframe\">\n",
       "  <thead>\n",
       "    <tr style=\"text-align: right;\">\n",
       "      <th></th>\n",
       "      <th>fsa_id</th>\n",
       "      <th>name</th>\n",
       "      <th>address</th>\n",
       "      <th>postcode</th>\n",
       "      <th>easting</th>\n",
       "      <th>northing</th>\n",
       "      <th>latitude</th>\n",
       "      <th>longitude</th>\n",
       "      <th>local_authority</th>\n",
       "    </tr>\n",
       "  </thead>\n",
       "  <tbody>\n",
       "    <tr>\n",
       "      <th>0</th>\n",
       "      <td>22</td>\n",
       "      <td>Anchor Inn</td>\n",
       "      <td>Upper Street, Stratford St Mary, COLCHESTER</td>\n",
       "      <td>CO7 6LW</td>\n",
       "      <td>604749</td>\n",
       "      <td>234404</td>\n",
       "      <td>51.970379</td>\n",
       "      <td>0.979340</td>\n",
       "      <td>Babergh</td>\n",
       "    </tr>\n",
       "    <tr>\n",
       "      <th>1</th>\n",
       "      <td>36</td>\n",
       "      <td>Ark Bar Restaurant</td>\n",
       "      <td>Ark Bar And Restaurant, Cattawade Street, Bran...</td>\n",
       "      <td>CO11 1RH</td>\n",
       "      <td>610194</td>\n",
       "      <td>233329</td>\n",
       "      <td>51.958698</td>\n",
       "      <td>1.057832</td>\n",
       "      <td>Babergh</td>\n",
       "    </tr>\n",
       "    <tr>\n",
       "      <th>2</th>\n",
       "      <td>74</td>\n",
       "      <td>Black Boy</td>\n",
       "      <td>The Lady Elizabeth, 7 Market Hill, SUDBURY, Su...</td>\n",
       "      <td>CO10 2EA</td>\n",
       "      <td>587334</td>\n",
       "      <td>241316</td>\n",
       "      <td>52.038595</td>\n",
       "      <td>0.729915</td>\n",
       "      <td>Babergh</td>\n",
       "    </tr>\n",
       "    <tr>\n",
       "      <th>3</th>\n",
       "      <td>75</td>\n",
       "      <td>Black Horse</td>\n",
       "      <td>Lower Street, Stratford St Mary, COLCHESTER</td>\n",
       "      <td>CO7 6JS</td>\n",
       "      <td>622675</td>\n",
       "      <td>-5527598</td>\n",
       "      <td>\\N</td>\n",
       "      <td>\\N</td>\n",
       "      <td>Babergh</td>\n",
       "    </tr>\n",
       "    <tr>\n",
       "      <th>4</th>\n",
       "      <td>76</td>\n",
       "      <td>Black Lion</td>\n",
       "      <td>Lion Road, Glemsford, SUDBURY</td>\n",
       "      <td>CO10 7RF</td>\n",
       "      <td>622675</td>\n",
       "      <td>-5527598</td>\n",
       "      <td>\\N</td>\n",
       "      <td>\\N</td>\n",
       "      <td>Babergh</td>\n",
       "    </tr>\n",
       "  </tbody>\n",
       "</table>\n",
       "</div>"
      ],
      "text/plain": [
       "   fsa_id                name  \\\n",
       "0      22          Anchor Inn   \n",
       "1      36  Ark Bar Restaurant   \n",
       "2      74           Black Boy   \n",
       "3      75         Black Horse   \n",
       "4      76          Black Lion   \n",
       "\n",
       "                                             address  postcode  easting  \\\n",
       "0        Upper Street, Stratford St Mary, COLCHESTER   CO7 6LW   604749   \n",
       "1  Ark Bar And Restaurant, Cattawade Street, Bran...  CO11 1RH   610194   \n",
       "2  The Lady Elizabeth, 7 Market Hill, SUDBURY, Su...  CO10 2EA   587334   \n",
       "3        Lower Street, Stratford St Mary, COLCHESTER   CO7 6JS   622675   \n",
       "4                      Lion Road, Glemsford, SUDBURY  CO10 7RF   622675   \n",
       "\n",
       "   northing   latitude longitude local_authority  \n",
       "0    234404  51.970379  0.979340         Babergh  \n",
       "1    233329  51.958698  1.057832         Babergh  \n",
       "2    241316  52.038595  0.729915         Babergh  \n",
       "3  -5527598         \\N        \\N         Babergh  \n",
       "4  -5527598         \\N        \\N         Babergh  "
      ]
     },
     "execution_count": 7,
     "metadata": {},
     "output_type": "execute_result"
    }
   ],
   "source": [
    "df.head()"
   ]
  },
  {
   "cell_type": "markdown",
   "id": "b3b10a70",
   "metadata": {},
   "source": [
    "**Finding and replacing null values**"
   ]
  },
  {
   "cell_type": "code",
   "execution_count": 8,
   "id": "be848b71",
   "metadata": {
    "scrolled": true
   },
   "outputs": [
    {
     "name": "stdout",
     "output_type": "stream",
     "text": [
      "False    50564\n",
      "True       767\n",
      "Name: latitude, dtype: int64\n",
      "False    50564\n",
      "True       767\n",
      "Name: longitude, dtype: int64\n"
     ]
    }
   ],
   "source": [
    "print((df['latitude'] == '\\\\N').value_counts())\n",
    "print((df['longitude'] == '\\\\N').value_counts())"
   ]
  },
  {
   "cell_type": "code",
   "execution_count": 9,
   "id": "1ecc5598",
   "metadata": {},
   "outputs": [],
   "source": [
    "df['latitude'].replace('\\\\N',np.nan,inplace=True)\n",
    "df['longitude'].replace('\\\\N',np.nan,inplace=True)"
   ]
  },
  {
   "cell_type": "code",
   "execution_count": 10,
   "id": "0ccfa586",
   "metadata": {
    "scrolled": true
   },
   "outputs": [
    {
     "name": "stdout",
     "output_type": "stream",
     "text": [
      "False    51331\n",
      "Name: latitude, dtype: int64\n",
      "False    51331\n",
      "Name: longitude, dtype: int64\n"
     ]
    }
   ],
   "source": [
    "print((df['latitude'] == '\\\\N').value_counts())\n",
    "print((df['longitude'] == '\\\\N').value_counts())"
   ]
  },
  {
   "cell_type": "code",
   "execution_count": 11,
   "id": "76c6b183",
   "metadata": {},
   "outputs": [
    {
     "data": {
      "text/plain": [
       "(51331, 9)"
      ]
     },
     "execution_count": 11,
     "metadata": {},
     "output_type": "execute_result"
    }
   ],
   "source": [
    "df.shape"
   ]
  },
  {
   "cell_type": "code",
   "execution_count": 12,
   "id": "d2893c04",
   "metadata": {},
   "outputs": [
    {
     "data": {
      "text/plain": [
       "fsa_id               0\n",
       "name                 0\n",
       "address              0\n",
       "postcode             0\n",
       "easting              0\n",
       "northing             0\n",
       "latitude           767\n",
       "longitude          767\n",
       "local_authority      0\n",
       "dtype: int64"
      ]
     },
     "execution_count": 12,
     "metadata": {},
     "output_type": "execute_result"
    }
   ],
   "source": [
    "df.isnull().sum()"
   ]
  },
  {
   "cell_type": "code",
   "execution_count": 13,
   "id": "8186189b",
   "metadata": {},
   "outputs": [],
   "source": [
    "df.dropna(inplace=True)"
   ]
  },
  {
   "cell_type": "code",
   "execution_count": 14,
   "id": "a8592dad",
   "metadata": {},
   "outputs": [
    {
     "data": {
      "text/plain": [
       "(50564, 9)"
      ]
     },
     "execution_count": 14,
     "metadata": {},
     "output_type": "execute_result"
    }
   ],
   "source": [
    "df.shape"
   ]
  },
  {
   "cell_type": "code",
   "execution_count": 15,
   "id": "d721fabf",
   "metadata": {},
   "outputs": [
    {
     "data": {
      "text/plain": [
       "fsa_id             0\n",
       "name               0\n",
       "address            0\n",
       "postcode           0\n",
       "easting            0\n",
       "northing           0\n",
       "latitude           0\n",
       "longitude          0\n",
       "local_authority    0\n",
       "dtype: int64"
      ]
     },
     "execution_count": 15,
     "metadata": {},
     "output_type": "execute_result"
    }
   ],
   "source": [
    "df.isnull().sum()"
   ]
  },
  {
   "cell_type": "markdown",
   "id": "6dde6950",
   "metadata": {},
   "source": [
    "**Checking columns types**"
   ]
  },
  {
   "cell_type": "code",
   "execution_count": 16,
   "id": "ce27a47e",
   "metadata": {
    "scrolled": true
   },
   "outputs": [
    {
     "data": {
      "text/plain": [
       "fsa_id              int64\n",
       "name               object\n",
       "address            object\n",
       "postcode           object\n",
       "easting             int64\n",
       "northing            int64\n",
       "latitude           object\n",
       "longitude          object\n",
       "local_authority    object\n",
       "dtype: object"
      ]
     },
     "execution_count": 16,
     "metadata": {},
     "output_type": "execute_result"
    }
   ],
   "source": [
    "df.dtypes"
   ]
  },
  {
   "cell_type": "markdown",
   "id": "55163770",
   "metadata": {},
   "source": [
    "<code>latitude</code> and <code>longitude</code> are in wrong format."
   ]
  },
  {
   "cell_type": "code",
   "execution_count": 19,
   "id": "5e3378f3",
   "metadata": {},
   "outputs": [],
   "source": [
    "df['latitude'] = df['latitude'].astype('float')\n",
    "df['longitude'] = df['longitude'].astype('float')"
   ]
  },
  {
   "cell_type": "code",
   "execution_count": 20,
   "id": "67381d25",
   "metadata": {},
   "outputs": [
    {
     "data": {
      "text/plain": [
       "fsa_id               int64\n",
       "name                object\n",
       "address             object\n",
       "postcode            object\n",
       "easting              int64\n",
       "northing             int64\n",
       "latitude           float64\n",
       "longitude          float64\n",
       "local_authority     object\n",
       "dtype: object"
      ]
     },
     "execution_count": 20,
     "metadata": {},
     "output_type": "execute_result"
    }
   ],
   "source": [
    "df.dtypes"
   ]
  },
  {
   "cell_type": "code",
   "execution_count": 23,
   "id": "a58dd2cb",
   "metadata": {},
   "outputs": [],
   "source": [
    "df.to_csv('data/cleaned_open_pubs.csv')"
   ]
  },
  {
   "cell_type": "code",
   "execution_count": 33,
   "id": "90b94378",
   "metadata": {},
   "outputs": [
    {
     "data": {
      "text/html": [
       "<div>\n",
       "<style scoped>\n",
       "    .dataframe tbody tr th:only-of-type {\n",
       "        vertical-align: middle;\n",
       "    }\n",
       "\n",
       "    .dataframe tbody tr th {\n",
       "        vertical-align: top;\n",
       "    }\n",
       "\n",
       "    .dataframe thead th {\n",
       "        text-align: right;\n",
       "    }\n",
       "</style>\n",
       "<table border=\"1\" class=\"dataframe\">\n",
       "  <thead>\n",
       "    <tr style=\"text-align: right;\">\n",
       "      <th></th>\n",
       "      <th>fsa_id</th>\n",
       "      <th>name</th>\n",
       "      <th>address</th>\n",
       "      <th>postcode</th>\n",
       "      <th>easting</th>\n",
       "      <th>northing</th>\n",
       "      <th>latitude</th>\n",
       "      <th>longitude</th>\n",
       "    </tr>\n",
       "    <tr>\n",
       "      <th>local_authority</th>\n",
       "      <th></th>\n",
       "      <th></th>\n",
       "      <th></th>\n",
       "      <th></th>\n",
       "      <th></th>\n",
       "      <th></th>\n",
       "      <th></th>\n",
       "      <th></th>\n",
       "    </tr>\n",
       "  </thead>\n",
       "  <tbody>\n",
       "    <tr>\n",
       "      <th>County Durham</th>\n",
       "      <td>680</td>\n",
       "      <td>680</td>\n",
       "      <td>680</td>\n",
       "      <td>680</td>\n",
       "      <td>680</td>\n",
       "      <td>680</td>\n",
       "      <td>680</td>\n",
       "      <td>680</td>\n",
       "    </tr>\n",
       "    <tr>\n",
       "      <th>Leeds</th>\n",
       "      <td>611</td>\n",
       "      <td>611</td>\n",
       "      <td>611</td>\n",
       "      <td>611</td>\n",
       "      <td>611</td>\n",
       "      <td>611</td>\n",
       "      <td>611</td>\n",
       "      <td>611</td>\n",
       "    </tr>\n",
       "    <tr>\n",
       "      <th>Cornwall</th>\n",
       "      <td>557</td>\n",
       "      <td>557</td>\n",
       "      <td>557</td>\n",
       "      <td>557</td>\n",
       "      <td>557</td>\n",
       "      <td>557</td>\n",
       "      <td>557</td>\n",
       "      <td>557</td>\n",
       "    </tr>\n",
       "    <tr>\n",
       "      <th>Wiltshire</th>\n",
       "      <td>544</td>\n",
       "      <td>544</td>\n",
       "      <td>544</td>\n",
       "      <td>544</td>\n",
       "      <td>544</td>\n",
       "      <td>544</td>\n",
       "      <td>544</td>\n",
       "      <td>544</td>\n",
       "    </tr>\n",
       "    <tr>\n",
       "      <th>Kirklees</th>\n",
       "      <td>524</td>\n",
       "      <td>524</td>\n",
       "      <td>524</td>\n",
       "      <td>524</td>\n",
       "      <td>524</td>\n",
       "      <td>524</td>\n",
       "      <td>524</td>\n",
       "      <td>524</td>\n",
       "    </tr>\n",
       "  </tbody>\n",
       "</table>\n",
       "</div>"
      ],
      "text/plain": [
       "                 fsa_id  name  address  postcode  easting  northing  latitude  \\\n",
       "local_authority                                                                 \n",
       "County Durham       680   680      680       680      680       680       680   \n",
       "Leeds               611   611      611       611      611       611       611   \n",
       "Cornwall            557   557      557       557      557       557       557   \n",
       "Wiltshire           544   544      544       544      544       544       544   \n",
       "Kirklees            524   524      524       524      524       524       524   \n",
       "\n",
       "                 longitude  \n",
       "local_authority             \n",
       "County Durham          680  \n",
       "Leeds                  611  \n",
       "Cornwall               557  \n",
       "Wiltshire              544  \n",
       "Kirklees               524  "
      ]
     },
     "execution_count": 33,
     "metadata": {},
     "output_type": "execute_result"
    }
   ],
   "source": [
    "df.groupby('local_authority').count().sort_values(by = 'name',ascending=False).head()"
   ]
  },
  {
   "cell_type": "code",
   "execution_count": 37,
   "id": "20894065",
   "metadata": {
    "scrolled": true
   },
   "outputs": [
    {
     "data": {
      "text/plain": [
       "local_authority\n",
       "County Durham    680\n",
       "Leeds            611\n",
       "Cornwall         557\n",
       "Wiltshire        544\n",
       "Kirklees         524\n",
       "Name: name, dtype: int64"
      ]
     },
     "execution_count": 37,
     "metadata": {},
     "output_type": "execute_result"
    }
   ],
   "source": [
    "df.groupby('local_authority').count()['name'].sort_values(ascending=False).head()"
   ]
  },
  {
   "cell_type": "code",
   "execution_count": null,
   "id": "83abc873",
   "metadata": {},
   "outputs": [],
   "source": []
  },
  {
   "cell_type": "code",
   "execution_count": null,
   "id": "186528ec",
   "metadata": {},
   "outputs": [],
   "source": []
  },
  {
   "cell_type": "code",
   "execution_count": null,
   "id": "885caa2d",
   "metadata": {},
   "outputs": [],
   "source": []
  },
  {
   "cell_type": "code",
   "execution_count": 5,
   "id": "664700a8",
   "metadata": {},
   "outputs": [
    {
     "data": {
      "text/html": [
       "<div>\n",
       "<style scoped>\n",
       "    .dataframe tbody tr th:only-of-type {\n",
       "        vertical-align: middle;\n",
       "    }\n",
       "\n",
       "    .dataframe tbody tr th {\n",
       "        vertical-align: top;\n",
       "    }\n",
       "\n",
       "    .dataframe thead th {\n",
       "        text-align: right;\n",
       "    }\n",
       "</style>\n",
       "<table border=\"1\" class=\"dataframe\">\n",
       "  <thead>\n",
       "    <tr style=\"text-align: right;\">\n",
       "      <th></th>\n",
       "      <th>fsa_id</th>\n",
       "      <th>name</th>\n",
       "      <th>address</th>\n",
       "      <th>postcode</th>\n",
       "      <th>easting</th>\n",
       "      <th>northing</th>\n",
       "      <th>latitude</th>\n",
       "      <th>longitude</th>\n",
       "      <th>local_authority</th>\n",
       "    </tr>\n",
       "  </thead>\n",
       "  <tbody>\n",
       "    <tr>\n",
       "      <th>0</th>\n",
       "      <td>22</td>\n",
       "      <td>Anchor Inn</td>\n",
       "      <td>Upper Street, Stratford St Mary, COLCHESTER</td>\n",
       "      <td>CO7 6LW</td>\n",
       "      <td>604749</td>\n",
       "      <td>234404</td>\n",
       "      <td>51.970379</td>\n",
       "      <td>0.979340</td>\n",
       "      <td>Babergh</td>\n",
       "    </tr>\n",
       "    <tr>\n",
       "      <th>1</th>\n",
       "      <td>36</td>\n",
       "      <td>Ark Bar Restaurant</td>\n",
       "      <td>Ark Bar And Restaurant, Cattawade Street, Bran...</td>\n",
       "      <td>CO11 1RH</td>\n",
       "      <td>610194</td>\n",
       "      <td>233329</td>\n",
       "      <td>51.958698</td>\n",
       "      <td>1.057832</td>\n",
       "      <td>Babergh</td>\n",
       "    </tr>\n",
       "    <tr>\n",
       "      <th>2</th>\n",
       "      <td>74</td>\n",
       "      <td>Black Boy</td>\n",
       "      <td>The Lady Elizabeth, 7 Market Hill, SUDBURY, Su...</td>\n",
       "      <td>CO10 2EA</td>\n",
       "      <td>587334</td>\n",
       "      <td>241316</td>\n",
       "      <td>52.038595</td>\n",
       "      <td>0.729915</td>\n",
       "      <td>Babergh</td>\n",
       "    </tr>\n",
       "    <tr>\n",
       "      <th>3</th>\n",
       "      <td>97</td>\n",
       "      <td>Brewers Arms</td>\n",
       "      <td>The Brewers Arms, Bower House Tye, Polstead, C...</td>\n",
       "      <td>CO6 5BZ</td>\n",
       "      <td>598743</td>\n",
       "      <td>240655</td>\n",
       "      <td>52.028694</td>\n",
       "      <td>0.895650</td>\n",
       "      <td>Babergh</td>\n",
       "    </tr>\n",
       "    <tr>\n",
       "      <th>4</th>\n",
       "      <td>102</td>\n",
       "      <td>Bristol Arms</td>\n",
       "      <td>Bristol Hill, Shotley, IPSWICH</td>\n",
       "      <td>IP9 1PU</td>\n",
       "      <td>624624</td>\n",
       "      <td>233550</td>\n",
       "      <td>51.955042</td>\n",
       "      <td>1.267642</td>\n",
       "      <td>Babergh</td>\n",
       "    </tr>\n",
       "    <tr>\n",
       "      <th>...</th>\n",
       "      <td>...</td>\n",
       "      <td>...</td>\n",
       "      <td>...</td>\n",
       "      <td>...</td>\n",
       "      <td>...</td>\n",
       "      <td>...</td>\n",
       "      <td>...</td>\n",
       "      <td>...</td>\n",
       "      <td>...</td>\n",
       "    </tr>\n",
       "    <tr>\n",
       "      <th>95</th>\n",
       "      <td>1239</td>\n",
       "      <td>Culpepper Club</td>\n",
       "      <td>Culpepper Club, Gardiners Lane South, Basildon...</td>\n",
       "      <td>SS14 3AP</td>\n",
       "      <td>571986</td>\n",
       "      <td>190386</td>\n",
       "      <td>51.586085</td>\n",
       "      <td>0.481117</td>\n",
       "      <td>Basildon</td>\n",
       "    </tr>\n",
       "    <tr>\n",
       "      <th>96</th>\n",
       "      <td>1250</td>\n",
       "      <td>David Lloyd Club</td>\n",
       "      <td>Festival Way, Basildon, Essex</td>\n",
       "      <td>SS14 3DG</td>\n",
       "      <td>570578</td>\n",
       "      <td>190064</td>\n",
       "      <td>51.583619</td>\n",
       "      <td>0.460659</td>\n",
       "      <td>Basildon</td>\n",
       "    </tr>\n",
       "    <tr>\n",
       "      <th>97</th>\n",
       "      <td>1252</td>\n",
       "      <td>DB Shack</td>\n",
       "      <td>The Castle Mayne Public House, The Knares, Bas...</td>\n",
       "      <td>SS16 5RZ</td>\n",
       "      <td>569537</td>\n",
       "      <td>187840</td>\n",
       "      <td>51.563953</td>\n",
       "      <td>0.444576</td>\n",
       "      <td>Basildon</td>\n",
       "    </tr>\n",
       "    <tr>\n",
       "      <th>98</th>\n",
       "      <td>1270</td>\n",
       "      <td>Dick Turpin</td>\n",
       "      <td>Dick Turpin, Southend Arterial Road, Wickford,...</td>\n",
       "      <td>SS12 9HZ</td>\n",
       "      <td>575155</td>\n",
       "      <td>190980</td>\n",
       "      <td>51.590444</td>\n",
       "      <td>0.527110</td>\n",
       "      <td>Basildon</td>\n",
       "    </tr>\n",
       "    <tr>\n",
       "      <th>99</th>\n",
       "      <td>1292</td>\n",
       "      <td>Downham Arms</td>\n",
       "      <td>130 London Road, Wickford, Essex</td>\n",
       "      <td>SS12 0AR</td>\n",
       "      <td>573767</td>\n",
       "      <td>193285</td>\n",
       "      <td>51.611579</td>\n",
       "      <td>0.508235</td>\n",
       "      <td>Basildon</td>\n",
       "    </tr>\n",
       "  </tbody>\n",
       "</table>\n",
       "<p>100 rows × 9 columns</p>\n",
       "</div>"
      ],
      "text/plain": [
       "    fsa_id                name  \\\n",
       "0       22          Anchor Inn   \n",
       "1       36  Ark Bar Restaurant   \n",
       "2       74           Black Boy   \n",
       "3       97        Brewers Arms   \n",
       "4      102        Bristol Arms   \n",
       "..     ...                 ...   \n",
       "95    1239      Culpepper Club   \n",
       "96    1250    David Lloyd Club   \n",
       "97    1252            DB Shack   \n",
       "98    1270         Dick Turpin   \n",
       "99    1292        Downham Arms   \n",
       "\n",
       "                                              address  postcode  easting  \\\n",
       "0         Upper Street, Stratford St Mary, COLCHESTER   CO7 6LW   604749   \n",
       "1   Ark Bar And Restaurant, Cattawade Street, Bran...  CO11 1RH   610194   \n",
       "2   The Lady Elizabeth, 7 Market Hill, SUDBURY, Su...  CO10 2EA   587334   \n",
       "3   The Brewers Arms, Bower House Tye, Polstead, C...   CO6 5BZ   598743   \n",
       "4                      Bristol Hill, Shotley, IPSWICH   IP9 1PU   624624   \n",
       "..                                                ...       ...      ...   \n",
       "95  Culpepper Club, Gardiners Lane South, Basildon...  SS14 3AP   571986   \n",
       "96                      Festival Way, Basildon, Essex  SS14 3DG   570578   \n",
       "97  The Castle Mayne Public House, The Knares, Bas...  SS16 5RZ   569537   \n",
       "98  Dick Turpin, Southend Arterial Road, Wickford,...  SS12 9HZ   575155   \n",
       "99                   130 London Road, Wickford, Essex  SS12 0AR   573767   \n",
       "\n",
       "    northing   latitude  longitude local_authority  \n",
       "0     234404  51.970379   0.979340         Babergh  \n",
       "1     233329  51.958698   1.057832         Babergh  \n",
       "2     241316  52.038595   0.729915         Babergh  \n",
       "3     240655  52.028694   0.895650         Babergh  \n",
       "4     233550  51.955042   1.267642         Babergh  \n",
       "..       ...        ...        ...             ...  \n",
       "95    190386  51.586085   0.481117        Basildon  \n",
       "96    190064  51.583619   0.460659        Basildon  \n",
       "97    187840  51.563953   0.444576        Basildon  \n",
       "98    190980  51.590444   0.527110        Basildon  \n",
       "99    193285  51.611579   0.508235        Basildon  \n",
       "\n",
       "[100 rows x 9 columns]"
      ]
     },
     "execution_count": 5,
     "metadata": {},
     "output_type": "execute_result"
    }
   ],
   "source": [
    "demo = pd.read_csv('data/cleaned_open_pubs.csv')\n",
    "demo.head(100)"
   ]
  },
  {
   "cell_type": "code",
   "execution_count": 10,
   "id": "ee25c584",
   "metadata": {},
   "outputs": [
    {
     "data": {
      "text/plain": [
       "array([51.970379,  0.97934 ])"
      ]
     },
     "execution_count": 10,
     "metadata": {},
     "output_type": "execute_result"
    }
   ],
   "source": [
    "user_input = np.array([51.970379,0.979340])\n",
    "user_input"
   ]
  },
  {
   "cell_type": "code",
   "execution_count": 44,
   "id": "7931bf50",
   "metadata": {},
   "outputs": [],
   "source": [
    "new_demo = demo[['latitude','longitude']]"
   ]
  },
  {
   "cell_type": "code",
   "execution_count": 45,
   "id": "ec52f29e",
   "metadata": {},
   "outputs": [],
   "source": [
    "distances = np.sqrt(np.sum((user_input - new_demo)**2, axis = 1))"
   ]
  },
  {
   "cell_type": "code",
   "execution_count": 46,
   "id": "8edfe5ef",
   "metadata": {},
   "outputs": [
    {
     "data": {
      "text/plain": [
       "0        0.000000\n",
       "1        0.079356\n",
       "2        0.258585\n",
       "3        0.102003\n",
       "4        0.288710\n",
       "           ...   \n",
       "50559    4.110196\n",
       "50560    4.123171\n",
       "50561    4.118958\n",
       "50562    4.084577\n",
       "50563    4.178937\n",
       "Length: 50564, dtype: float64"
      ]
     },
     "execution_count": 46,
     "metadata": {},
     "output_type": "execute_result"
    }
   ],
   "source": [
    "distances"
   ]
  },
  {
   "cell_type": "code",
   "execution_count": 47,
   "id": "4e99efe2",
   "metadata": {},
   "outputs": [],
   "source": [
    "n = 5\n",
    "min_indices = np.argpartition(distances,n-1)[:n]"
   ]
  },
  {
   "cell_type": "code",
   "execution_count": 50,
   "id": "5f75fbb3",
   "metadata": {},
   "outputs": [
    {
     "data": {
      "text/plain": [
       "0    3928\n",
       "1      13\n",
       "2      59\n",
       "3       0\n",
       "4      72\n",
       "dtype: int64"
      ]
     },
     "execution_count": 50,
     "metadata": {},
     "output_type": "execute_result"
    }
   ],
   "source": [
    "min_indices"
   ]
  },
  {
   "cell_type": "code",
   "execution_count": 49,
   "id": "6daedb96",
   "metadata": {},
   "outputs": [
    {
     "data": {
      "text/html": [
       "<div>\n",
       "<style scoped>\n",
       "    .dataframe tbody tr th:only-of-type {\n",
       "        vertical-align: middle;\n",
       "    }\n",
       "\n",
       "    .dataframe tbody tr th {\n",
       "        vertical-align: top;\n",
       "    }\n",
       "\n",
       "    .dataframe thead th {\n",
       "        text-align: right;\n",
       "    }\n",
       "</style>\n",
       "<table border=\"1\" class=\"dataframe\">\n",
       "  <thead>\n",
       "    <tr style=\"text-align: right;\">\n",
       "      <th></th>\n",
       "      <th>fsa_id</th>\n",
       "      <th>name</th>\n",
       "      <th>address</th>\n",
       "      <th>postcode</th>\n",
       "      <th>easting</th>\n",
       "      <th>northing</th>\n",
       "      <th>latitude</th>\n",
       "      <th>longitude</th>\n",
       "      <th>local_authority</th>\n",
       "    </tr>\n",
       "  </thead>\n",
       "  <tbody>\n",
       "    <tr>\n",
       "      <th>3928</th>\n",
       "      <td>47627</td>\n",
       "      <td>Wooden Fender</td>\n",
       "      <td>Colchester Road, Ardleigh, Colchester, Essex</td>\n",
       "      <td>CO7 7PA</td>\n",
       "      <td>604524</td>\n",
       "      <td>229090</td>\n",
       "      <td>51.922751</td>\n",
       "      <td>0.972912</td>\n",
       "      <td>Tendring</td>\n",
       "    </tr>\n",
       "    <tr>\n",
       "      <th>13</th>\n",
       "      <td>324</td>\n",
       "      <td>Hare And Hounds</td>\n",
       "      <td>Hare and Hounds, Heath Road, East Bergholt, CO...</td>\n",
       "      <td>CO7 6RL</td>\n",
       "      <td>607633</td>\n",
       "      <td>235423</td>\n",
       "      <td>51.978451</td>\n",
       "      <td>1.021879</td>\n",
       "      <td>Babergh</td>\n",
       "    </tr>\n",
       "    <tr>\n",
       "      <th>59</th>\n",
       "      <td>814</td>\n",
       "      <td>The Lion</td>\n",
       "      <td>The Red Lion, The Street, East Bergholt, COLCH...</td>\n",
       "      <td>CO7 6TB</td>\n",
       "      <td>606924</td>\n",
       "      <td>234668</td>\n",
       "      <td>51.971950</td>\n",
       "      <td>1.011109</td>\n",
       "      <td>Babergh</td>\n",
       "    </tr>\n",
       "    <tr>\n",
       "      <th>0</th>\n",
       "      <td>22</td>\n",
       "      <td>Anchor Inn</td>\n",
       "      <td>Upper Street, Stratford St Mary, COLCHESTER</td>\n",
       "      <td>CO7 6LW</td>\n",
       "      <td>604749</td>\n",
       "      <td>234404</td>\n",
       "      <td>51.970379</td>\n",
       "      <td>0.979340</td>\n",
       "      <td>Babergh</td>\n",
       "    </tr>\n",
       "    <tr>\n",
       "      <th>72</th>\n",
       "      <td>882</td>\n",
       "      <td>United Services Club</td>\n",
       "      <td>White Horse Road, East Bergholt, COLCHESTER</td>\n",
       "      <td>CO7 6TU</td>\n",
       "      <td>608265</td>\n",
       "      <td>234311</td>\n",
       "      <td>51.968239</td>\n",
       "      <td>1.030394</td>\n",
       "      <td>Babergh</td>\n",
       "    </tr>\n",
       "  </tbody>\n",
       "</table>\n",
       "</div>"
      ],
      "text/plain": [
       "      fsa_id                  name  \\\n",
       "3928   47627         Wooden Fender   \n",
       "13       324       Hare And Hounds   \n",
       "59       814              The Lion   \n",
       "0         22            Anchor Inn   \n",
       "72       882  United Services Club   \n",
       "\n",
       "                                                address postcode  easting  \\\n",
       "3928       Colchester Road, Ardleigh, Colchester, Essex  CO7 7PA   604524   \n",
       "13    Hare and Hounds, Heath Road, East Bergholt, CO...  CO7 6RL   607633   \n",
       "59    The Red Lion, The Street, East Bergholt, COLCH...  CO7 6TB   606924   \n",
       "0           Upper Street, Stratford St Mary, COLCHESTER  CO7 6LW   604749   \n",
       "72          White Horse Road, East Bergholt, COLCHESTER  CO7 6TU   608265   \n",
       "\n",
       "      northing   latitude  longitude local_authority  \n",
       "3928    229090  51.922751   0.972912        Tendring  \n",
       "13      235423  51.978451   1.021879         Babergh  \n",
       "59      234668  51.971950   1.011109         Babergh  \n",
       "0       234404  51.970379   0.979340         Babergh  \n",
       "72      234311  51.968239   1.030394         Babergh  "
      ]
     },
     "execution_count": 49,
     "metadata": {},
     "output_type": "execute_result"
    }
   ],
   "source": [
    "demo.iloc[min_indices]"
   ]
  },
  {
   "cell_type": "code",
   "execution_count": 19,
   "id": "e4650329",
   "metadata": {},
   "outputs": [],
   "source": [
    "result = user_input - demo[['latitude','longitude']]"
   ]
  },
  {
   "cell_type": "code",
   "execution_count": 20,
   "id": "76877cb4",
   "metadata": {},
   "outputs": [
    {
     "data": {
      "text/html": [
       "<div>\n",
       "<style scoped>\n",
       "    .dataframe tbody tr th:only-of-type {\n",
       "        vertical-align: middle;\n",
       "    }\n",
       "\n",
       "    .dataframe tbody tr th {\n",
       "        vertical-align: top;\n",
       "    }\n",
       "\n",
       "    .dataframe thead th {\n",
       "        text-align: right;\n",
       "    }\n",
       "</style>\n",
       "<table border=\"1\" class=\"dataframe\">\n",
       "  <thead>\n",
       "    <tr style=\"text-align: right;\">\n",
       "      <th></th>\n",
       "      <th>latitude</th>\n",
       "      <th>longitude</th>\n",
       "    </tr>\n",
       "  </thead>\n",
       "  <tbody>\n",
       "    <tr>\n",
       "      <th>0</th>\n",
       "      <td>0.000000</td>\n",
       "      <td>0.000000</td>\n",
       "    </tr>\n",
       "    <tr>\n",
       "      <th>1</th>\n",
       "      <td>0.011681</td>\n",
       "      <td>-0.078492</td>\n",
       "    </tr>\n",
       "    <tr>\n",
       "      <th>2</th>\n",
       "      <td>-0.068216</td>\n",
       "      <td>0.249425</td>\n",
       "    </tr>\n",
       "    <tr>\n",
       "      <th>3</th>\n",
       "      <td>-0.058315</td>\n",
       "      <td>0.083690</td>\n",
       "    </tr>\n",
       "    <tr>\n",
       "      <th>4</th>\n",
       "      <td>0.015337</td>\n",
       "      <td>-0.288302</td>\n",
       "    </tr>\n",
       "    <tr>\n",
       "      <th>...</th>\n",
       "      <td>...</td>\n",
       "      <td>...</td>\n",
       "    </tr>\n",
       "    <tr>\n",
       "      <th>50559</th>\n",
       "      <td>-1.076721</td>\n",
       "      <td>3.966659</td>\n",
       "    </tr>\n",
       "    <tr>\n",
       "      <th>50560</th>\n",
       "      <td>-1.077744</td>\n",
       "      <td>3.979825</td>\n",
       "    </tr>\n",
       "    <tr>\n",
       "      <th>50561</th>\n",
       "      <td>-1.074619</td>\n",
       "      <td>3.976306</td>\n",
       "    </tr>\n",
       "    <tr>\n",
       "      <th>50562</th>\n",
       "      <td>-1.082715</td>\n",
       "      <td>3.938464</td>\n",
       "    </tr>\n",
       "    <tr>\n",
       "      <th>50563</th>\n",
       "      <td>-1.106259</td>\n",
       "      <td>4.029852</td>\n",
       "    </tr>\n",
       "  </tbody>\n",
       "</table>\n",
       "<p>50564 rows × 2 columns</p>\n",
       "</div>"
      ],
      "text/plain": [
       "       latitude  longitude\n",
       "0      0.000000   0.000000\n",
       "1      0.011681  -0.078492\n",
       "2     -0.068216   0.249425\n",
       "3     -0.058315   0.083690\n",
       "4      0.015337  -0.288302\n",
       "...         ...        ...\n",
       "50559 -1.076721   3.966659\n",
       "50560 -1.077744   3.979825\n",
       "50561 -1.074619   3.976306\n",
       "50562 -1.082715   3.938464\n",
       "50563 -1.106259   4.029852\n",
       "\n",
       "[50564 rows x 2 columns]"
      ]
     },
     "execution_count": 20,
     "metadata": {},
     "output_type": "execute_result"
    }
   ],
   "source": [
    "result"
   ]
  },
  {
   "cell_type": "code",
   "execution_count": 41,
   "id": "bc9ac57a",
   "metadata": {},
   "outputs": [
    {
     "data": {
      "text/plain": [
       "array([[ 0.      ,  0.      ],\n",
       "       [-0.078492,  0.011681],\n",
       "       [-0.068216,  0.249425],\n",
       "       ...,\n",
       "       [-1.074619,  3.976306],\n",
       "       [-1.082715,  3.938464],\n",
       "       [-1.106259,  4.029852]])"
      ]
     },
     "execution_count": 41,
     "metadata": {},
     "output_type": "execute_result"
    }
   ],
   "source": [
    "np.sort(result)[1:6]"
   ]
  },
  {
   "cell_type": "code",
   "execution_count": 42,
   "id": "a3d39ea6",
   "metadata": {},
   "outputs": [
    {
     "data": {
      "text/plain": [
       "array([[-0.078492,  0.011681],\n",
       "       [-0.068216,  0.249425],\n",
       "       [-0.058315,  0.08369 ],\n",
       "       [-0.288302,  0.015337],\n",
       "       [-0.067524,  0.246653]])"
      ]
     },
     "execution_count": 42,
     "metadata": {},
     "output_type": "execute_result"
    }
   ],
   "source": [
    "np.sort(result)[1:6]"
   ]
  },
  {
   "cell_type": "code",
   "execution_count": null,
   "id": "d0e70e40",
   "metadata": {},
   "outputs": [],
   "source": []
  }
 ],
 "metadata": {
  "kernelspec": {
   "display_name": "Python 3 (ipykernel)",
   "language": "python",
   "name": "python3"
  },
  "language_info": {
   "codemirror_mode": {
    "name": "ipython",
    "version": 3
   },
   "file_extension": ".py",
   "mimetype": "text/x-python",
   "name": "python",
   "nbconvert_exporter": "python",
   "pygments_lexer": "ipython3",
   "version": "3.9.7"
  }
 },
 "nbformat": 4,
 "nbformat_minor": 5
}
