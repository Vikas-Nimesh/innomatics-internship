{
 "cells": [
  {
   "cell_type": "markdown",
   "id": "3aa09034",
   "metadata": {},
   "source": [
    "# `Descriptive Statistics`"
   ]
  },
  {
   "cell_type": "markdown",
   "id": "09fd5720",
   "metadata": {},
   "source": [
    "# `importing libraries`"
   ]
  },
  {
   "cell_type": "code",
   "execution_count": 16,
   "id": "561ee710",
   "metadata": {},
   "outputs": [],
   "source": [
    "import warnings\n",
    "warnings.filterwarnings('ignore')"
   ]
  },
  {
   "cell_type": "code",
   "execution_count": 14,
   "id": "c5743fe4",
   "metadata": {},
   "outputs": [],
   "source": [
    "import pandas as pd\n",
    "import numpy as np\n",
    "import seaborn as sns\n",
    "import matplotlib.pyplot as plt\n",
    "%matplotlib inline"
   ]
  },
  {
   "cell_type": "markdown",
   "id": "41de5252",
   "metadata": {},
   "source": [
    "# `importing dataset`"
   ]
  },
  {
   "cell_type": "code",
   "execution_count": 2,
   "id": "48d47e9e",
   "metadata": {},
   "outputs": [
    {
     "data": {
      "text/html": [
       "<div>\n",
       "<style scoped>\n",
       "    .dataframe tbody tr th:only-of-type {\n",
       "        vertical-align: middle;\n",
       "    }\n",
       "\n",
       "    .dataframe tbody tr th {\n",
       "        vertical-align: top;\n",
       "    }\n",
       "\n",
       "    .dataframe thead th {\n",
       "        text-align: right;\n",
       "    }\n",
       "</style>\n",
       "<table border=\"1\" class=\"dataframe\">\n",
       "  <thead>\n",
       "    <tr style=\"text-align: right;\">\n",
       "      <th></th>\n",
       "      <th>Mthly_HH_Income</th>\n",
       "      <th>Mthly_HH_Expense</th>\n",
       "      <th>No_of_Fly_Members</th>\n",
       "      <th>Emi_or_Rent_Amt</th>\n",
       "      <th>Annual_HH_Income</th>\n",
       "      <th>Highest_Qualified_Member</th>\n",
       "      <th>No_of_Earning_Members</th>\n",
       "    </tr>\n",
       "  </thead>\n",
       "  <tbody>\n",
       "    <tr>\n",
       "      <th>0</th>\n",
       "      <td>5000</td>\n",
       "      <td>8000</td>\n",
       "      <td>3</td>\n",
       "      <td>2000</td>\n",
       "      <td>64200</td>\n",
       "      <td>Under-Graduate</td>\n",
       "      <td>1</td>\n",
       "    </tr>\n",
       "    <tr>\n",
       "      <th>1</th>\n",
       "      <td>6000</td>\n",
       "      <td>7000</td>\n",
       "      <td>2</td>\n",
       "      <td>3000</td>\n",
       "      <td>79920</td>\n",
       "      <td>Illiterate</td>\n",
       "      <td>1</td>\n",
       "    </tr>\n",
       "    <tr>\n",
       "      <th>2</th>\n",
       "      <td>10000</td>\n",
       "      <td>4500</td>\n",
       "      <td>2</td>\n",
       "      <td>0</td>\n",
       "      <td>112800</td>\n",
       "      <td>Under-Graduate</td>\n",
       "      <td>1</td>\n",
       "    </tr>\n",
       "    <tr>\n",
       "      <th>3</th>\n",
       "      <td>10000</td>\n",
       "      <td>2000</td>\n",
       "      <td>1</td>\n",
       "      <td>0</td>\n",
       "      <td>97200</td>\n",
       "      <td>Illiterate</td>\n",
       "      <td>1</td>\n",
       "    </tr>\n",
       "    <tr>\n",
       "      <th>4</th>\n",
       "      <td>12500</td>\n",
       "      <td>12000</td>\n",
       "      <td>2</td>\n",
       "      <td>3000</td>\n",
       "      <td>147000</td>\n",
       "      <td>Graduate</td>\n",
       "      <td>1</td>\n",
       "    </tr>\n",
       "  </tbody>\n",
       "</table>\n",
       "</div>"
      ],
      "text/plain": [
       "   Mthly_HH_Income  Mthly_HH_Expense  No_of_Fly_Members  Emi_or_Rent_Amt  \\\n",
       "0             5000              8000                  3             2000   \n",
       "1             6000              7000                  2             3000   \n",
       "2            10000              4500                  2                0   \n",
       "3            10000              2000                  1                0   \n",
       "4            12500             12000                  2             3000   \n",
       "\n",
       "   Annual_HH_Income Highest_Qualified_Member  No_of_Earning_Members  \n",
       "0             64200           Under-Graduate                      1  \n",
       "1             79920               Illiterate                      1  \n",
       "2            112800           Under-Graduate                      1  \n",
       "3             97200               Illiterate                      1  \n",
       "4            147000                 Graduate                      1  "
      ]
     },
     "execution_count": 2,
     "metadata": {},
     "output_type": "execute_result"
    }
   ],
   "source": [
    "dataset = pd.read_csv('data.csv')\n",
    "dataset.head()"
   ]
  },
  {
   "cell_type": "code",
   "execution_count": 3,
   "id": "5788a9fc",
   "metadata": {},
   "outputs": [
    {
     "data": {
      "text/plain": [
       "(50, 7)"
      ]
     },
     "execution_count": 3,
     "metadata": {},
     "output_type": "execute_result"
    }
   ],
   "source": [
    "dataset.shape"
   ]
  },
  {
   "cell_type": "code",
   "execution_count": 6,
   "id": "26581a50",
   "metadata": {},
   "outputs": [
    {
     "data": {
      "text/plain": [
       "Index(['Mthly_HH_Income', 'Mthly_HH_Expense', 'No_of_Fly_Members',\n",
       "       'Emi_or_Rent_Amt', 'Annual_HH_Income', 'No_of_Earning_Members'],\n",
       "      dtype='object')"
      ]
     },
     "execution_count": 6,
     "metadata": {},
     "output_type": "execute_result"
    }
   ],
   "source": [
    "df_num = dataset.select_dtypes(include=['float','int'])\n",
    "df_num.columns"
   ]
  },
  {
   "cell_type": "markdown",
   "id": "a842ab74",
   "metadata": {},
   "source": [
    "# `Mean`"
   ]
  },
  {
   "cell_type": "markdown",
   "id": "115595a5",
   "metadata": {},
   "source": [
    "What is mean? <br>\n",
    "Mean is the average of the given numbers and is calculated by dividing the sum of given numbers by the total number of numbers."
   ]
  },
  {
   "cell_type": "markdown",
   "id": "1ac473d2",
   "metadata": {},
   "source": [
    "$$ ( \\frac{1}{n} \\sum_{i=i}^{n} x_{i})$$"
   ]
  },
  {
   "cell_type": "markdown",
   "id": "7af97726",
   "metadata": {},
   "source": [
    "## `Mean without using mean() function`"
   ]
  },
  {
   "cell_type": "code",
   "execution_count": 12,
   "id": "0fd4bbab",
   "metadata": {
    "scrolled": true
   },
   "outputs": [
    {
     "name": "stdout",
     "output_type": "stream",
     "text": [
      "mean of column Mthly_HH_Income 41558.0\n",
      "mean of column Mthly_HH_Expense 60376.0\n",
      "mean of column No_of_Fly_Members 60380.06\n",
      "mean of column Emi_or_Rent_Amt 63440.06\n",
      "mean of column Annual_HH_Income 553459.1\n",
      "mean of column No_of_Earning_Members 553460.56\n"
     ]
    }
   ],
   "source": [
    "column_sum = 0\n",
    "for col in df_num.columns:\n",
    "    for i in dataset[col]:\n",
    "        column_sum = column_sum + i\n",
    "    print(\"mean of column\",col,(column_sum / dataset[col].size))\n",
    "    \n",
    "    "
   ]
  },
  {
   "cell_type": "markdown",
   "id": "da7dc4b3",
   "metadata": {},
   "source": [
    "## `Mean using mean() function`"
   ]
  },
  {
   "cell_type": "code",
   "execution_count": 12,
   "id": "ee710172",
   "metadata": {},
   "outputs": [
    {
     "data": {
      "text/plain": [
       "Mthly_HH_Income           41558.00\n",
       "Mthly_HH_Expense          18818.00\n",
       "No_of_Fly_Members             4.06\n",
       "Emi_or_Rent_Amt            3060.00\n",
       "Annual_HH_Income         490019.04\n",
       "No_of_Earning_Members         1.46\n",
       "dtype: float64"
      ]
     },
     "execution_count": 12,
     "metadata": {},
     "output_type": "execute_result"
    }
   ],
   "source": [
    "dataset[['Mthly_HH_Income','Mthly_HH_Expense',\n",
    "         'No_of_Fly_Members','Emi_or_Rent_Amt',\n",
    "         'Annual_HH_Income','No_of_Earning_Members']].mean()"
   ]
  },
  {
   "cell_type": "markdown",
   "id": "b8a87557",
   "metadata": {},
   "source": [
    "# `Median`"
   ]
  },
  {
   "cell_type": "markdown",
   "id": "2716ed7e",
   "metadata": {},
   "source": [
    "What is median?<br>\n",
    "Median is defined as the middle value of a sorted list of numbers."
   ]
  },
  {
   "cell_type": "code",
   "execution_count": 13,
   "id": "11ce1790",
   "metadata": {
    "scrolled": true
   },
   "outputs": [
    {
     "data": {
      "text/plain": [
       "Mthly_HH_Income           35000.0\n",
       "Mthly_HH_Expense          15500.0\n",
       "No_of_Fly_Members             4.0\n",
       "Emi_or_Rent_Amt               0.0\n",
       "Annual_HH_Income         447420.0\n",
       "No_of_Earning_Members         1.0\n",
       "dtype: float64"
      ]
     },
     "execution_count": 13,
     "metadata": {},
     "output_type": "execute_result"
    }
   ],
   "source": [
    "dataset[['Mthly_HH_Income','Mthly_HH_Expense',\n",
    "         'No_of_Fly_Members','Emi_or_Rent_Amt',\n",
    "         'Annual_HH_Income','No_of_Earning_Members']].median()"
   ]
  },
  {
   "cell_type": "markdown",
   "id": "0f8441a9",
   "metadata": {},
   "source": [
    "# `Mode`"
   ]
  },
  {
   "cell_type": "markdown",
   "id": "0b1ff982",
   "metadata": {},
   "source": [
    "What is mode?<br>\n",
    "Mode is the value that appears most frequently in a data set."
   ]
  },
  {
   "cell_type": "code",
   "execution_count": 5,
   "id": "48c69c45",
   "metadata": {},
   "outputs": [
    {
     "data": {
      "text/plain": [
       "Index(['Mthly_HH_Income', 'Mthly_HH_Expense', 'No_of_Fly_Members',\n",
       "       'Emi_or_Rent_Amt', 'Annual_HH_Income', 'No_of_Earning_Members'],\n",
       "      dtype='object')"
      ]
     },
     "execution_count": 5,
     "metadata": {},
     "output_type": "execute_result"
    }
   ],
   "source": [
    "df_num = dataset.select_dtypes(include=['float','int'])\n",
    "df_num.columns"
   ]
  },
  {
   "cell_type": "code",
   "execution_count": 14,
   "id": "2ad9629b",
   "metadata": {
    "scrolled": true
   },
   "outputs": [
    {
     "data": {
      "text/html": [
       "<div>\n",
       "<style scoped>\n",
       "    .dataframe tbody tr th:only-of-type {\n",
       "        vertical-align: middle;\n",
       "    }\n",
       "\n",
       "    .dataframe tbody tr th {\n",
       "        vertical-align: top;\n",
       "    }\n",
       "\n",
       "    .dataframe thead th {\n",
       "        text-align: right;\n",
       "    }\n",
       "</style>\n",
       "<table border=\"1\" class=\"dataframe\">\n",
       "  <thead>\n",
       "    <tr style=\"text-align: right;\">\n",
       "      <th></th>\n",
       "      <th>Mthly_HH_Income</th>\n",
       "      <th>Mthly_HH_Expense</th>\n",
       "      <th>No_of_Fly_Members</th>\n",
       "      <th>Emi_or_Rent_Amt</th>\n",
       "      <th>Annual_HH_Income</th>\n",
       "      <th>No_of_Earning_Members</th>\n",
       "    </tr>\n",
       "  </thead>\n",
       "  <tbody>\n",
       "    <tr>\n",
       "      <th>0</th>\n",
       "      <td>45000</td>\n",
       "      <td>25000</td>\n",
       "      <td>4</td>\n",
       "      <td>0</td>\n",
       "      <td>590400</td>\n",
       "      <td>1</td>\n",
       "    </tr>\n",
       "  </tbody>\n",
       "</table>\n",
       "</div>"
      ],
      "text/plain": [
       "   Mthly_HH_Income  Mthly_HH_Expense  No_of_Fly_Members  Emi_or_Rent_Amt  \\\n",
       "0            45000             25000                  4                0   \n",
       "\n",
       "   Annual_HH_Income  No_of_Earning_Members  \n",
       "0            590400                      1  "
      ]
     },
     "execution_count": 14,
     "metadata": {},
     "output_type": "execute_result"
    }
   ],
   "source": [
    "dataset[['Mthly_HH_Income','Mthly_HH_Expense',\n",
    "         'No_of_Fly_Members','Emi_or_Rent_Amt',\n",
    "         'Annual_HH_Income','No_of_Earning_Members']].mode()"
   ]
  },
  {
   "cell_type": "markdown",
   "id": "180dbae8",
   "metadata": {},
   "source": [
    "# `Variance`"
   ]
  },
  {
   "cell_type": "markdown",
   "id": "ed1d484a",
   "metadata": {},
   "source": [
    "What is variance?<br>\n",
    "Variance is a measurement of the spread between numbers in a data set."
   ]
  },
  {
   "cell_type": "markdown",
   "id": "e41b6249",
   "metadata": {},
   "source": [
    "$$\n",
    "\\sigma^2 = \\frac{\\displaystyle\\sum_{i=1}^{n}(x_i - \\mu)^2} {n}\n",
    "$$"
   ]
  },
  {
   "cell_type": "code",
   "execution_count": 17,
   "id": "ae0e0fb3",
   "metadata": {},
   "outputs": [],
   "source": [
    "variance = dataset[['Mthly_HH_Income','Mthly_HH_Expense',\n",
    "         'No_of_Fly_Members','Emi_or_Rent_Amt',\n",
    "         'Annual_HH_Income','No_of_Earning_Members']].var()"
   ]
  },
  {
   "cell_type": "code",
   "execution_count": 19,
   "id": "2e83b316",
   "metadata": {},
   "outputs": [
    {
     "data": {
      "text/plain": [
       "Mthly_HH_Income          6.811009e+08\n",
       "Mthly_HH_Expense         1.461733e+08\n",
       "No_of_Fly_Members        2.302449e+00\n",
       "Emi_or_Rent_Amt          3.895551e+07\n",
       "Annual_HH_Income         1.024869e+11\n",
       "No_of_Earning_Members    5.391837e-01\n",
       "dtype: float64"
      ]
     },
     "execution_count": 19,
     "metadata": {},
     "output_type": "execute_result"
    }
   ],
   "source": [
    "variance"
   ]
  },
  {
   "cell_type": "code",
   "execution_count": 21,
   "id": "00f4c0e4",
   "metadata": {},
   "outputs": [
    {
     "name": "stdout",
     "output_type": "stream",
     "text": [
      "681100853.0612245\n",
      "146173342.85714284\n",
      "2.3024489795918366\n",
      "38955510.20408163\n",
      "102486925397.9167\n",
      "0.5391836734693878\n"
     ]
    }
   ],
   "source": [
    "for i in variance:\n",
    "    print(i)"
   ]
  },
  {
   "cell_type": "markdown",
   "id": "f2cc773c",
   "metadata": {},
   "source": [
    "# `Standard Deviation`"
   ]
  },
  {
   "cell_type": "markdown",
   "id": "975745ca",
   "metadata": {},
   "source": [
    "What is standard deviation?<br>\n",
    "Standard Deviation is a measure which shows how much variation (such as spread, dispersion, spread,) from the mean exists."
   ]
  },
  {
   "cell_type": "markdown",
   "id": "ce17b101",
   "metadata": {},
   "source": [
    "$$\n",
    "s = \\sqrt{variance} .\n",
    "$$"
   ]
  },
  {
   "cell_type": "code",
   "execution_count": 25,
   "id": "5a489e7b",
   "metadata": {},
   "outputs": [],
   "source": [
    "standard_deviation = dataset[['Mthly_HH_Income','Mthly_HH_Expense',\n",
    "         'No_of_Fly_Members','Emi_or_Rent_Amt',\n",
    "         'Annual_HH_Income','No_of_Earning_Members']].std()"
   ]
  },
  {
   "cell_type": "code",
   "execution_count": 26,
   "id": "6824c6b4",
   "metadata": {
    "scrolled": true
   },
   "outputs": [
    {
     "data": {
      "text/plain": [
       "Mthly_HH_Income           26097.908979\n",
       "Mthly_HH_Expense          12090.216824\n",
       "No_of_Fly_Members             1.517382\n",
       "Emi_or_Rent_Amt            6241.434948\n",
       "Annual_HH_Income         320135.792123\n",
       "No_of_Earning_Members         0.734291\n",
       "dtype: float64"
      ]
     },
     "execution_count": 26,
     "metadata": {},
     "output_type": "execute_result"
    }
   ],
   "source": [
    "standard_deviation"
   ]
  },
  {
   "cell_type": "markdown",
   "id": "d0db9e9f",
   "metadata": {},
   "source": [
    "# `Correlation`"
   ]
  },
  {
   "cell_type": "markdown",
   "id": "c47625f8",
   "metadata": {},
   "source": [
    "What is correlation?<br>\n",
    "Correlation is a statistical measurement to measure the relation betwen two variables. The Correlation between two variables lies between -1 to +1. If our corealation value>1 or <1 then there must be some error in our calculations.The +1 known as perfect positive co-rrelation and -1 denotes the perfect negative correlation."
   ]
  },
  {
   "cell_type": "code",
   "execution_count": 28,
   "id": "a6dc1cef",
   "metadata": {},
   "outputs": [
    {
     "data": {
      "text/html": [
       "<div>\n",
       "<style scoped>\n",
       "    .dataframe tbody tr th:only-of-type {\n",
       "        vertical-align: middle;\n",
       "    }\n",
       "\n",
       "    .dataframe tbody tr th {\n",
       "        vertical-align: top;\n",
       "    }\n",
       "\n",
       "    .dataframe thead th {\n",
       "        text-align: right;\n",
       "    }\n",
       "</style>\n",
       "<table border=\"1\" class=\"dataframe\">\n",
       "  <thead>\n",
       "    <tr style=\"text-align: right;\">\n",
       "      <th></th>\n",
       "      <th>Mthly_HH_Income</th>\n",
       "      <th>Mthly_HH_Expense</th>\n",
       "      <th>No_of_Fly_Members</th>\n",
       "      <th>Emi_or_Rent_Amt</th>\n",
       "      <th>Annual_HH_Income</th>\n",
       "      <th>No_of_Earning_Members</th>\n",
       "    </tr>\n",
       "  </thead>\n",
       "  <tbody>\n",
       "    <tr>\n",
       "      <th>Mthly_HH_Income</th>\n",
       "      <td>1.000000</td>\n",
       "      <td>0.649215</td>\n",
       "      <td>0.448317</td>\n",
       "      <td>0.036976</td>\n",
       "      <td>0.970315</td>\n",
       "      <td>0.347883</td>\n",
       "    </tr>\n",
       "    <tr>\n",
       "      <th>Mthly_HH_Expense</th>\n",
       "      <td>0.649215</td>\n",
       "      <td>1.000000</td>\n",
       "      <td>0.639702</td>\n",
       "      <td>0.405280</td>\n",
       "      <td>0.591222</td>\n",
       "      <td>0.311915</td>\n",
       "    </tr>\n",
       "    <tr>\n",
       "      <th>No_of_Fly_Members</th>\n",
       "      <td>0.448317</td>\n",
       "      <td>0.639702</td>\n",
       "      <td>1.000000</td>\n",
       "      <td>0.085808</td>\n",
       "      <td>0.430868</td>\n",
       "      <td>0.597482</td>\n",
       "    </tr>\n",
       "    <tr>\n",
       "      <th>Emi_or_Rent_Amt</th>\n",
       "      <td>0.036976</td>\n",
       "      <td>0.405280</td>\n",
       "      <td>0.085808</td>\n",
       "      <td>1.000000</td>\n",
       "      <td>0.002716</td>\n",
       "      <td>-0.097431</td>\n",
       "    </tr>\n",
       "    <tr>\n",
       "      <th>Annual_HH_Income</th>\n",
       "      <td>0.970315</td>\n",
       "      <td>0.591222</td>\n",
       "      <td>0.430868</td>\n",
       "      <td>0.002716</td>\n",
       "      <td>1.000000</td>\n",
       "      <td>0.296679</td>\n",
       "    </tr>\n",
       "    <tr>\n",
       "      <th>No_of_Earning_Members</th>\n",
       "      <td>0.347883</td>\n",
       "      <td>0.311915</td>\n",
       "      <td>0.597482</td>\n",
       "      <td>-0.097431</td>\n",
       "      <td>0.296679</td>\n",
       "      <td>1.000000</td>\n",
       "    </tr>\n",
       "  </tbody>\n",
       "</table>\n",
       "</div>"
      ],
      "text/plain": [
       "                       Mthly_HH_Income  Mthly_HH_Expense  No_of_Fly_Members  \\\n",
       "Mthly_HH_Income               1.000000          0.649215           0.448317   \n",
       "Mthly_HH_Expense              0.649215          1.000000           0.639702   \n",
       "No_of_Fly_Members             0.448317          0.639702           1.000000   \n",
       "Emi_or_Rent_Amt               0.036976          0.405280           0.085808   \n",
       "Annual_HH_Income              0.970315          0.591222           0.430868   \n",
       "No_of_Earning_Members         0.347883          0.311915           0.597482   \n",
       "\n",
       "                       Emi_or_Rent_Amt  Annual_HH_Income  \\\n",
       "Mthly_HH_Income               0.036976          0.970315   \n",
       "Mthly_HH_Expense              0.405280          0.591222   \n",
       "No_of_Fly_Members             0.085808          0.430868   \n",
       "Emi_or_Rent_Amt               1.000000          0.002716   \n",
       "Annual_HH_Income              0.002716          1.000000   \n",
       "No_of_Earning_Members        -0.097431          0.296679   \n",
       "\n",
       "                       No_of_Earning_Members  \n",
       "Mthly_HH_Income                     0.347883  \n",
       "Mthly_HH_Expense                    0.311915  \n",
       "No_of_Fly_Members                   0.597482  \n",
       "Emi_or_Rent_Amt                    -0.097431  \n",
       "Annual_HH_Income                    0.296679  \n",
       "No_of_Earning_Members               1.000000  "
      ]
     },
     "execution_count": 28,
     "metadata": {},
     "output_type": "execute_result"
    }
   ],
   "source": [
    "dataset.corr()"
   ]
  },
  {
   "cell_type": "markdown",
   "id": "aaafe464",
   "metadata": {},
   "source": [
    "# `Normal Distribution`"
   ]
  },
  {
   "cell_type": "code",
   "execution_count": 17,
   "id": "15d65cfc",
   "metadata": {
    "scrolled": true
   },
   "outputs": [
    {
     "data": {
      "text/plain": [
       "<AxesSubplot:xlabel='Mthly_HH_Income', ylabel='Density'>"
      ]
     },
     "execution_count": 17,
     "metadata": {},
     "output_type": "execute_result"
    },
    {
     "data": {
      "image/png": "[encoded data removed]",
      "text/plain": [
       "<Figure size 432x288 with 1 Axes>"
      ]
     },
     "metadata": {
      "needs_background": "light"
     },
     "output_type": "display_data"
    }
   ],
   "source": [
    "sns.distplot(dataset['Mthly_HH_Income'])"
   ]
  },
  {
   "cell_type": "code",
   "execution_count": 36,
   "id": "9777f7c5",
   "metadata": {},
   "outputs": [],
   "source": [
    "from scipy import stats"
   ]
  },
  {
   "cell_type": "code",
   "execution_count": 37,
   "id": "e65506a8",
   "metadata": {
    "scrolled": false
   },
   "outputs": [
    {
     "data": {
      "image/png": "[encoded data removed]",
      "text/plain": [
       "<Figure size 432x288 with 1 Axes>"
      ]
     },
     "metadata": {
      "needs_background": "light"
     },
     "output_type": "display_data"
    }
   ],
   "source": [
    "mean = df_num['Mthly_HH_Income'].mean()\n",
    "std = df_num['Mthly_HH_Income'].std()\n",
    "plt.plot(df_num['Mthly_HH_Income'], norm.pdf(df_num['Mthly_HH_Income'], mean, std))\n",
    "plt.show()"
   ]
  },
  {
   "cell_type": "markdown",
   "id": "cecdb3a2",
   "metadata": {},
   "source": [
    "# `Features of Normal Distribution`"
   ]
  },
  {
   "cell_type": "markdown",
   "id": "347c012f",
   "metadata": {},
   "source": [
    "1.**`Bell Shaped Curve`**<br>\n",
    "2.**`Mean, Median, Mode are Equal`**<br>\n",
    "3.**`Symmetric around Mean`**<br>\n",
    "\n"
   ]
  },
  {
   "cell_type": "markdown",
   "id": "9e0fd771",
   "metadata": {},
   "source": [
    "# `Positively Skewed & Negatively Skewed Normal Distribution `"
   ]
  },
  {
   "cell_type": "markdown",
   "id": "6c3efe02",
   "metadata": {},
   "source": [
    "If one tail is longer than another, the distribution is skewed. These distributions are sometimes called asymmetric or asymmetrical distributions as they don’t show any kind of symmetry. Symmetry means that one half of the distribution is a mirror image of the other half. For example, the normal distribution is a symmetric distribution with no skew. The tails are exactly the same.\n",
    "\n",
    "**left-skewed distribution** <br> has a long left tail. Left-skewed distributions are also called negatively-skewed distributions. That’s because there is a long tail in the negative direction on the number line. The mean is also to the left of the peak.\n",
    "\n",
    "**right-skewed distributionhas** <br> a long right tail. Right-skewed distributions are also called positive-skew distributions. That’s because there is a long tail in the positive direction on the number line. The mean is also to the right of the peak.\n",
    "![mean.png](https://drive.google.com/uc?id=185axuVLwIUxEyhPvW45WF4BLG3yhB711)\n",
    "\n"
   ]
  },
  {
   "cell_type": "markdown",
   "id": "87f72e4c",
   "metadata": {},
   "source": [
    "# `QQ Plot(Quantile-Quantile):`"
   ]
  },
  {
   "cell_type": "markdown",
   "id": "d51c85c3",
   "metadata": {},
   "source": [
    "In Statistics, Q-Q(quantile-quantile) plots play a very vital role to graphically analyze and compare two probability distributions by plotting their quantiles against each other. If the two distributions which we are comparing are exactly equal then the points on the Q-Q plot will perfectly lie on a straight line y = x."
   ]
  },
  {
   "cell_type": "markdown",
   "id": "d9785350",
   "metadata": {},
   "source": [
    "![](https://miro.medium.com/max/1024/1*_wuWDNGs3hB2K0_kgpoc1A.jpeg)"
   ]
  },
  {
   "cell_type": "code",
   "execution_count": 39,
   "id": "f053149b",
   "metadata": {},
   "outputs": [
    {
     "data": {
      "image/png": "[encoded data removed]",
      "text/plain": [
       "<Figure size 432x288 with 1 Axes>"
      ]
     },
     "metadata": {
      "needs_background": "light"
     },
     "output_type": "display_data"
    }
   ],
   "source": [
    "stats.probplot(df_num['Mthly_HH_Income'],dist='norm',plot=plt)\n",
    "plt.title(\"Normal Q-Q plot\")\n",
    "plt.show()"
   ]
  },
  {
   "cell_type": "markdown",
   "id": "8f0ea3ce",
   "metadata": {},
   "source": [
    "# `Box-Cox Transformation`"
   ]
  },
  {
   "cell_type": "markdown",
   "id": "a6827f48",
   "metadata": {},
   "source": [
    "Box-Cox method helps to address non-normally distributed data by transforming to normalize the data."
   ]
  },
  {
   "cell_type": "code",
   "execution_count": 40,
   "id": "c9d8df99",
   "metadata": {},
   "outputs": [
    {
     "name": "stdout",
     "output_type": "stream",
     "text": [
      "0.3031376789702236\n"
     ]
    }
   ],
   "source": [
    "# x_t = tranformed by box-cox, l = Lambda\n",
    "x_t, l = stats.boxcox(df_num['Mthly_HH_Income'])\n",
    "print(l)"
   ]
  },
  {
   "cell_type": "code",
   "execution_count": 41,
   "id": "bf0a3e70",
   "metadata": {},
   "outputs": [
    {
     "data": {
      "image/png": "[encoded data removed]",
      "text/plain": [
       "<Figure size 432x288 with 1 Axes>"
      ]
     },
     "metadata": {
      "needs_background": "light"
     },
     "output_type": "display_data"
    }
   ],
   "source": [
    "stats.probplot(x_t,dist='norm',plot=plt)\n",
    "plt.title(\"Normal Q-Q plot\")\n",
    "plt.show()"
   ]
  },
  {
   "cell_type": "code",
   "execution_count": null,
   "id": "0e9f1710",
   "metadata": {},
   "outputs": [],
   "source": []
  }
 ],
 "metadata": {
  "kernelspec": {
   "display_name": "Python 3 (ipykernel)",
   "language": "python",
   "name": "python3"
  },
  "language_info": {
   "codemirror_mode": {
    "name": "ipython",
    "version": 3
   },
   "file_extension": ".py",
   "mimetype": "text/x-python",
   "name": "python",
   "nbconvert_exporter": "python",
   "pygments_lexer": "ipython3",
   "version": "3.9.7"
  }
 },
 "nbformat": 4,
 "nbformat_minor": 5
}
